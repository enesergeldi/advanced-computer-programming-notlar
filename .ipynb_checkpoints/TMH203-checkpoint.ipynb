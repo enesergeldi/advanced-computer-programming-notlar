{
 "cells": [
  {
   "cell_type": "markdown",
   "metadata": {},
   "source": [
    "CTRL + ENTER > Çalıştırıp aynı hücrede kalır."
   ]
  },
  {
   "cell_type": "markdown",
   "metadata": {},
   "source": [
    "SHIFT + ENTER > Çalıştırıp bir alt hücreye geçer."
   ]
  },
  {
   "cell_type": "markdown",
   "metadata": {},
   "source": [
    "File > Download as > .pdf şeklinde indirebilirsiniz"
   ]
  },
  {
   "cell_type": "markdown",
   "metadata": {},
   "source": [
    "Insert > Altına veya üstüne hücre ekle"
   ]
  },
  {
   "cell_type": "markdown",
   "metadata": {},
   "source": [
    "# Hafta 1\n",
    "* Platform ve kaynak tanıtımı\n",
    "* Temel kavramlar"
   ]
  },
  {
   "cell_type": "code",
   "execution_count": 1,
   "metadata": {},
   "outputs": [
    {
     "name": "stdout",
     "output_type": "stream",
     "text": [
      "Dostlar merhaba\n"
     ]
    }
   ],
   "source": [
    "print(\"Dostlar merhaba\")"
   ]
  },
  {
   "cell_type": "markdown",
   "metadata": {},
   "source": [
    "# Hafta 2 Veri tipleri, değişkenler ve koşullar "
   ]
  },
  {
   "cell_type": "markdown",
   "metadata": {},
   "source": [
    "## Karakter Dizileri (string) "
   ]
  },
  {
   "cell_type": "code",
   "execution_count": 2,
   "metadata": {},
   "outputs": [
    {
     "data": {
      "text/plain": [
       "'İleri Bilgisayar Programlama'"
      ]
     },
     "execution_count": 2,
     "metadata": {},
     "output_type": "execute_result"
    }
   ],
   "source": [
    "\"İleri Bilgisayar Programlama\""
   ]
  },
  {
   "cell_type": "code",
   "execution_count": 3,
   "metadata": {},
   "outputs": [
    {
     "data": {
      "text/plain": [
       "' '"
      ]
     },
     "execution_count": 3,
     "metadata": {},
     "output_type": "execute_result"
    }
   ],
   "source": [
    "\"t\"\n",
    "\"\"\n",
    "\" \""
   ]
  },
  {
   "cell_type": "markdown",
   "metadata": {},
   "source": [
    "Python'da veri tipi doğrudan belirtilmez. Python'da stingler tırnak içerisinde yazılırlar ve + simgesi ile birleştirilirler."
   ]
  },
  {
   "cell_type": "code",
   "execution_count": 5,
   "metadata": {},
   "outputs": [
    {
     "data": {
      "text/plain": [
       "'Selamun Aleyküm'"
      ]
     },
     "execution_count": 5,
     "metadata": {},
     "output_type": "execute_result"
    }
   ],
   "source": [
    "\"Selamun \"+\"Aleyküm\""
   ]
  },
  {
   "cell_type": "code",
   "execution_count": 6,
   "metadata": {},
   "outputs": [
    {
     "data": {
      "text/plain": [
       "'www'"
      ]
     },
     "execution_count": 6,
     "metadata": {},
     "output_type": "execute_result"
    }
   ],
   "source": [
    "\"w\"*3"
   ]
  },
  {
   "cell_type": "markdown",
   "metadata": {},
   "source": [
    "(+) birleştirme yaparken (*) sembolü çoğaltma yapar."
   ]
  },
  {
   "cell_type": "code",
   "execution_count": 7,
   "metadata": {},
   "outputs": [
    {
     "data": {
      "text/plain": [
       "'--------------------'"
      ]
     },
     "execution_count": 7,
     "metadata": {},
     "output_type": "execute_result"
    }
   ],
   "source": [
    "\"-\"*20"
   ]
  },
  {
   "cell_type": "markdown",
   "metadata": {},
   "source": [
    "## Type ve len fonksiyonları\n",
    "\n",
    "type : Kullanılan verinin veya değişkenin tipini veriri.\n",
    "<br>\n",
    "len : Kullanılan karakter dizisinin (string vs.) uzunluğunu verir."
   ]
  },
  {
   "cell_type": "code",
   "execution_count": 8,
   "metadata": {},
   "outputs": [
    {
     "data": {
      "text/plain": [
       "str"
      ]
     },
     "execution_count": 8,
     "metadata": {},
     "output_type": "execute_result"
    }
   ],
   "source": [
    "type(\"selam\")"
   ]
  },
  {
   "cell_type": "code",
   "execution_count": 9,
   "metadata": {},
   "outputs": [
    {
     "data": {
      "text/plain": [
       "'1812'"
      ]
     },
     "execution_count": 9,
     "metadata": {},
     "output_type": "execute_result"
    }
   ],
   "source": [
    "\"18\"+\"12\""
   ]
  },
  {
   "cell_type": "code",
   "execution_count": 10,
   "metadata": {},
   "outputs": [
    {
     "data": {
      "text/plain": [
       "str"
      ]
     },
     "execution_count": 10,
     "metadata": {},
     "output_type": "execute_result"
    }
   ],
   "source": [
    "type(\"18\"+\"12\")"
   ]
  },
  {
   "cell_type": "code",
   "execution_count": 11,
   "metadata": {},
   "outputs": [
    {
     "data": {
      "text/plain": [
       "15"
      ]
     },
     "execution_count": 11,
     "metadata": {},
     "output_type": "execute_result"
    }
   ],
   "source": [
    "len(\"dostlar merhaba\")"
   ]
  },
  {
   "cell_type": "markdown",
   "metadata": {},
   "source": [
    "## Sayılara Giriş\n",
    "Python'da integer, float ve karmaşık sayılar bulunur.\n",
    "<br>\n",
    "Float yani noktalı sayılar virgülle değil, noktayla ayrılır."
   ]
  },
  {
   "cell_type": "code",
   "execution_count": 14,
   "metadata": {},
   "outputs": [
    {
     "data": {
      "text/plain": [
       "complex"
      ]
     },
     "execution_count": 14,
     "metadata": {},
     "output_type": "execute_result"
    }
   ],
   "source": [
    "type(10)\n",
    "type(10.1)\n",
    "type(10+2j)   #sadece son satırı gösterir."
   ]
  },
  {
   "cell_type": "markdown",
   "metadata": {},
   "source": [
    "Sayılar arasında (+),(-),(*),(/) işaretleri kullanılabilir"
   ]
  },
  {
   "cell_type": "code",
   "execution_count": 15,
   "metadata": {
    "scrolled": true
   },
   "outputs": [
    {
     "data": {
      "text/plain": [
       "5.0"
      ]
     },
     "execution_count": 15,
     "metadata": {},
     "output_type": "execute_result"
    }
   ],
   "source": [
    "15+3\n",
    "15-3\n",
    "15*3\n",
    "15/3"
   ]
  },
  {
   "cell_type": "markdown",
   "metadata": {},
   "source": [
    "## Değişkenler "
   ]
  },
  {
   "cell_type": "markdown",
   "metadata": {},
   "source": [
    "Bir program içinde değerlere verilen isimlere değişken denir."
   ]
  },
  {
   "cell_type": "code",
   "execution_count": 16,
   "metadata": {},
   "outputs": [],
   "source": [
    "isim = \"Mr. Brown\""
   ]
  },
  {
   "cell_type": "code",
   "execution_count": 17,
   "metadata": {},
   "outputs": [
    {
     "data": {
      "text/plain": [
       "'Mr. Brown'"
      ]
     },
     "execution_count": 17,
     "metadata": {},
     "output_type": "execute_result"
    }
   ],
   "source": [
    "isim"
   ]
  },
  {
   "cell_type": "markdown",
   "metadata": {},
   "source": [
    "Değişken berlirleme kuralları:\n",
    "* Sayı ile başlayamaz.\n",
    "* Aritmetik işaretler ile başlayamaz. (+,- vs.)\n",
    "* Boşluk kullanılmamalıdır.\n",
    "* Özel kelimeler kullanılmamalıdır. (for, if ,true vs.)\n",
    "* Büyük küçük harf ayrımına dikkat edilmedilir.\n",
    "* Alfabe harfi veya _ ile başlayabilir.\n",
    "* Olabildiğince tanımlayıcı ve okunabilir seçilmelidir."
   ]
  },
  {
   "cell_type": "markdown",
   "metadata": {},
   "source": [
    "Değişken olarak kullanılmayacak kelimeler aşağıdaki kod ile belirlenebilir."
   ]
  },
  {
   "cell_type": "code",
   "execution_count": 22,
   "metadata": {},
   "outputs": [
    {
     "name": "stdout",
     "output_type": "stream",
     "text": [
      "['False', 'None', 'True', 'and', 'as', 'assert', 'async', 'await', 'break', 'class', 'continue', 'def', 'del', 'elif', 'else', 'except', 'finally', 'for', 'from', 'global', 'if', 'import', 'in', 'is', 'lambda', 'nonlocal', 'not', 'or', 'pass', 'raise', 'return', 'try', 'while', 'with', 'yield']\n"
     ]
    },
    {
     "data": {
      "text/plain": [
       "list"
      ]
     },
     "execution_count": 22,
     "metadata": {},
     "output_type": "execute_result"
    }
   ],
   "source": [
    "import keyword\n",
    "yasakliKelimeler = keyword.kwlist\n",
    "print(yasakliKelimeler)\n",
    "len(yasakliKelimeler)\n",
    "type(yasakliKelimeler)"
   ]
  },
  {
   "cell_type": "markdown",
   "metadata": {},
   "source": [
    "### Basit uygulama\n",
    "Vize ve final notundan ortalama bulma\n",
    "<br>\n",
    "Yarıçap verilen dairenin alanını ve çevresini bulma"
   ]
  },
  {
   "cell_type": "code",
   "execution_count": 25,
   "metadata": {},
   "outputs": [
    {
     "name": "stdout",
     "output_type": "stream",
     "text": [
      "84.0\n"
     ]
    }
   ],
   "source": [
    "vize=90\n",
    "final=80\n",
    "x = (vize*40/100 + final*60/100)\n",
    "print(x)"
   ]
  },
  {
   "cell_type": "code",
   "execution_count": 26,
   "metadata": {},
   "outputs": [
    {
     "name": "stdout",
     "output_type": "stream",
     "text": [
      "31.400000000000002\n",
      "78.5\n"
     ]
    }
   ],
   "source": [
    "pi = 3.14\n",
    "r = 5\n",
    "cevre = 2*pi*r\n",
    "alan = pi*r*r\n",
    "print(cevre)\n",
    "print(alan)"
   ]
  },
  {
   "cell_type": "markdown",
   "metadata": {},
   "source": [
    "### Bazı ipuçları "
   ]
  },
  {
   "cell_type": "markdown",
   "metadata": {},
   "source": [
    "Aynı değere sahip değişkenleri birbiri peşi sıra tanımlayabilirsiniz."
   ]
  },
  {
   "cell_type": "code",
   "execution_count": 27,
   "metadata": {},
   "outputs": [],
   "source": [
    "a=b=c=5"
   ]
  },
  {
   "cell_type": "code",
   "execution_count": 28,
   "metadata": {},
   "outputs": [],
   "source": [
    "x=\"yazılım\"\n",
    "y=\"donanım\"\n",
    "x,y=y,x"
   ]
  },
  {
   "cell_type": "code",
   "execution_count": 29,
   "metadata": {},
   "outputs": [
    {
     "data": {
      "text/plain": [
       "'donanım'"
      ]
     },
     "execution_count": 29,
     "metadata": {},
     "output_type": "execute_result"
    }
   ],
   "source": [
    "x"
   ]
  },
  {
   "cell_type": "code",
   "execution_count": 30,
   "metadata": {},
   "outputs": [
    {
     "data": {
      "text/plain": [
       "'yazılım'"
      ]
     },
     "execution_count": 30,
     "metadata": {},
     "output_type": "execute_result"
    }
   ],
   "source": [
    "y"
   ]
  },
  {
   "cell_type": "code",
   "execution_count": 35,
   "metadata": {},
   "outputs": [
    {
     "data": {
      "text/plain": [
       "27"
      ]
     },
     "execution_count": 35,
     "metadata": {},
     "output_type": "execute_result"
    }
   ],
   "source": [
    "3**5     #çift yıldız = kuvvet\n",
    "3**2\n",
    "3**3"
   ]
  },
  {
   "cell_type": "code",
   "execution_count": 36,
   "metadata": {},
   "outputs": [
    {
     "data": {
      "text/plain": [
       "9"
      ]
     },
     "execution_count": 36,
     "metadata": {},
     "output_type": "execute_result"
    }
   ],
   "source": [
    "pow(3,2)   #3ün 2. dereceden kuvveti"
   ]
  },
  {
   "cell_type": "markdown",
   "metadata": {},
   "source": [
    "## Print fonksiyonu \n",
    "Değerleri ekrana veya dosyaya yazmaya yarayan fonksiyondur.\n",
    "<br>\n",
    "En çok kullanılan parametresi \"sep\" parametresidir. Default olarak \" \" olarak belirlenmiştir.\n",
    "<br>\n",
    "Bir diğer sık kullanılan parametre ise \"end\" parametresidir."
   ]
  },
  {
   "cell_type": "code",
   "execution_count": 37,
   "metadata": {},
   "outputs": [
    {
     "name": "stdout",
     "output_type": "stream",
     "text": [
      "Merhaba Python Gönüllüleri\n"
     ]
    }
   ],
   "source": [
    "print(\"Merhaba Python Gönüllüleri\")"
   ]
  },
  {
   "cell_type": "code",
   "execution_count": 40,
   "metadata": {},
   "outputs": [
    {
     "name": "stdout",
     "output_type": "stream",
     "text": [
      "Bugüne ait hava durumu:Güneşli\n"
     ]
    }
   ],
   "source": [
    "print(\"Bugüne ait hava durumu\", \"Güneşli\",sep=\":\")"
   ]
  },
  {
   "cell_type": "markdown",
   "metadata": {},
   "source": [
    "Tek tırnak (' ') , çift tırnak (\" \") veya üçlü tırnak (''' ''') kullanılabilir.\n",
    "<br>\n",
    "Ancak print hangisiyle başladıysa onunla bitirilmedlidir.\n",
    "<br>\n",
    "Bunun yanında comment(yorum) için # işareti kullanılır."
   ]
  },
  {
   "cell_type": "code",
   "execution_count": 41,
   "metadata": {},
   "outputs": [
    {
     "name": "stdout",
     "output_type": "stream",
     "text": [
      "Karabük'ün plakası 78'dir\n"
     ]
    }
   ],
   "source": [
    "print(\"Karabük'ün plakası 78'dir\")"
   ]
  },
  {
   "cell_type": "code",
   "execution_count": 42,
   "metadata": {},
   "outputs": [
    {
     "name": "stdout",
     "output_type": "stream",
     "text": [
      "Game over!\n",
      "\n",
      "Insert coin\n"
     ]
    }
   ],
   "source": [
    "print(\"\"\"Game over!\n",
    "\n",
    "Insert coin\"\"\")"
   ]
  },
  {
   "cell_type": "markdown",
   "metadata": {},
   "source": [
    "print() fonksiyonu birden fazla parametre alabilir."
   ]
  },
  {
   "cell_type": "code",
   "execution_count": 46,
   "metadata": {},
   "outputs": [
    {
     "name": "stdout",
     "output_type": "stream",
     "text": [
      "Biyomedikal Mühendisliği\n",
      "Biyomedikal\n",
      "Mühendisliği\n",
      "Biyomedikal++Mühendisliği\n"
     ]
    }
   ],
   "source": [
    "print(\"Biyomedikal\",\"Mühendisliği\")\n",
    "print(\"Biyomedikal\",\"Mühendisliği\", sep=\"\\n\")      # \\n alt satıra geçer\n",
    "print(\"Biyomedikal\",\"Mühendisliği\", sep=\"++\")"
   ]
  },
  {
   "cell_type": "markdown",
   "metadata": {},
   "source": [
    "## input fonksiyonu\n",
    "Kullanıcıdan konsol ekranında bilgi almak için kullanılır.\n",
    "<br>\n",
    "String tipinde veri döndürür."
   ]
  },
  {
   "cell_type": "code",
   "execution_count": 48,
   "metadata": {},
   "outputs": [
    {
     "name": "stdout",
     "output_type": "stream",
     "text": [
      "İsminiz nedir:Enes\n",
      "merhaba Enes\n"
     ]
    }
   ],
   "source": [
    "isim = input(\"İsminiz nedir:\")\n",
    "print(\"merhaba \"+isim)"
   ]
  },
  {
   "cell_type": "markdown",
   "metadata": {},
   "source": [
    "## Tip dönüşümleri \n",
    "* int(veri) >> integer dönüşüm\n",
    "* str(veri) >> string dönüşüm\n",
    "* float(veri) >> float dönüşüm\n",
    "* conplex(veri) >> karmaşık sayı dönüşümü"
   ]
  },
  {
   "cell_type": "code",
   "execution_count": 51,
   "metadata": {},
   "outputs": [
    {
     "name": "stdout",
     "output_type": "stream",
     "text": [
      "3\n"
     ]
    }
   ],
   "source": [
    "print(int(3.14))"
   ]
  },
  {
   "cell_type": "code",
   "execution_count": 58,
   "metadata": {},
   "outputs": [
    {
     "name": "stdout",
     "output_type": "stream",
     "text": [
      "<class 'str'>\n",
      "3\n"
     ]
    }
   ],
   "source": [
    "n=\"3.14\"\n",
    "print(type(n))\n",
    "print(int(float(n)))"
   ]
  },
  {
   "cell_type": "code",
   "execution_count": 62,
   "metadata": {},
   "outputs": [
    {
     "name": "stdout",
     "output_type": "stream",
     "text": [
      "Vize notunuzu giriniz:90\n",
      "Final notunuzu giriniz:80\n",
      "84.0\n"
     ]
    }
   ],
   "source": [
    "vize = int(input(\"Vize notunuzu giriniz:\"))\n",
    "final = int(input(\"Final notunuzu giriniz:\"))\n",
    "ortalama = vize*0.4+final*0.6\n",
    "print(ortalama)"
   ]
  },
  {
   "cell_type": "code",
   "execution_count": 72,
   "metadata": {},
   "outputs": [
    {
     "name": "stdout",
     "output_type": "stream",
     "text": [
      "Yarıçapını giriniz:12\n",
      "452.16\n",
      "Yarıçapı 12 olan dairenin alanı :  452.16\n",
      "Yarıçapı 12 olan dairenin alanı: 452.16\n"
     ]
    }
   ],
   "source": [
    "pi = 3.14\n",
    "r = int(input(\"Yarıçapını giriniz:\"))\n",
    "Alan = pi*r**2\n",
    "print(Alan)\n",
    "print(\"Yarıçapı \"+str(r)+\" olan dairenin alanı : \",Alan)\n",
    "print(\"Yarıçapı\",r,\"olan dairenin alanı:\",Alan)"
   ]
  },
  {
   "cell_type": "markdown",
   "metadata": {},
   "source": [
    "### Format Metodu"
   ]
  },
  {
   "cell_type": "code",
   "execution_count": 73,
   "metadata": {},
   "outputs": [
    {
     "name": "stdout",
     "output_type": "stream",
     "text": [
      "Bugün hava güneşli ve 22 derecedir.\n"
     ]
    }
   ],
   "source": [
    "print(\"Bugün hava {} ve {} derecedir.\".format(\"güneşli\",22))"
   ]
  },
  {
   "cell_type": "code",
   "execution_count": 74,
   "metadata": {},
   "outputs": [
    {
     "name": "stdout",
     "output_type": "stream",
     "text": [
      "Bugün hava çok bulutlu ve 16 derecedir.\n"
     ]
    }
   ],
   "source": [
    "print(\"Bugün hava {} ve {} derecedir.\".format(\"çok bulutlu\",16))"
   ]
  },
  {
   "cell_type": "code",
   "execution_count": 77,
   "metadata": {},
   "outputs": [
    {
     "name": "stdout",
     "output_type": "stream",
     "text": [
      "Bugün hava kar yağışlı ve -1 derecedir.\n"
     ]
    }
   ],
   "source": [
    "durum = \"Bugün hava {} ve {} derecedir.\"\n",
    "print(durum.format(\"kar yağışlı\",-1))"
   ]
  },
  {
   "cell_type": "markdown",
   "metadata": {},
   "source": [
    "## Karşılaştırma Operatörleri ve Koşullar\n",
    "|Operatörler|Anlamı|\n",
    "|-----|-----|\n",
    "|<|küçüktür|\n",
    "|>|büyüktür|\n",
    "|<=|küçük eşittir|\n",
    "|>=|büyük eşittir|\n",
    "|==|eşittir|\n",
    "|!=|eşit değildir|"
   ]
  },
  {
   "cell_type": "markdown",
   "metadata": {},
   "source": [
    "* if\n",
    "* elif\n",
    "* else"
   ]
  },
  {
   "cell_type": "code",
   "execution_count": 80,
   "metadata": {},
   "outputs": [
    {
     "name": "stdout",
     "output_type": "stream",
     "text": [
      "Bir sayı giriniz:13\n",
      "Sayı 10'dan büyüktür.\n"
     ]
    }
   ],
   "source": [
    "a = int(input(\"Bir sayı giriniz:\"))\n",
    "if a>10:\n",
    "    print(\"Sayı 10'dan büyüktür.\")"
   ]
  },
  {
   "cell_type": "markdown",
   "metadata": {},
   "source": [
    "Koşul deyimleri sonunda : eklenir ve koşul ile ilgili olan satır girintili olur."
   ]
  },
  {
   "cell_type": "code",
   "execution_count": 83,
   "metadata": {},
   "outputs": [
    {
     "name": "stdout",
     "output_type": "stream",
     "text": [
      "Bir sayı giriniz:0\n",
      "Sayı 0'dır\n"
     ]
    }
   ],
   "source": [
    "a = int(input(\"Bir sayı giriniz:\"))\n",
    "if a<0:\n",
    "    print(\"Sayı negatiftir\")\n",
    "elif a>0:\n",
    "    print(\"Sayı pozitiftir\")\n",
    "else:\n",
    "    print(\"Sayı 0'dır\")"
   ]
  },
  {
   "cell_type": "code",
   "execution_count": 85,
   "metadata": {},
   "outputs": [
    {
     "name": "stdout",
     "output_type": "stream",
     "text": [
      "Vize notunuzu giriniz:40\n",
      "Final notunuzu giriniz:55\n",
      "Ortalamadan kaldı\n"
     ]
    }
   ],
   "source": [
    "vize = int(input(\"Vize notunuzu giriniz:\"))\n",
    "final = int(input(\"Final notunuzu giriniz:\"))\n",
    "ortalama = vize*0.4+final*0.6\n",
    "if final<50:\n",
    "    print(\"Finalden kaldı\")\n",
    "elif ortalama<50:\n",
    "    print(\"Ortalamadan kaldı\")\n",
    "else:\n",
    "    print(\"Geçti, ortalama:\",ortalama)"
   ]
  },
  {
   "cell_type": "markdown",
   "metadata": {},
   "source": [
    "Kullanıcıdan üçgenin a ve b kenarlarını alacağız, dik üçgen olduğunu kabul edip hioptenüsü bulacağız.\n",
    "<br>\n",
    "Kullanıcıdan 2 sayı alacağız , büyük sayı ve küçük sayıyı yazdır."
   ]
  },
  {
   "cell_type": "code",
   "execution_count": 88,
   "metadata": {},
   "outputs": [
    {
     "name": "stdout",
     "output_type": "stream",
     "text": [
      "a kenarını giriniz:3\n",
      "b kenarını giriniz:4\n",
      "5.0\n"
     ]
    }
   ],
   "source": [
    "a = int(input(\"a kenarını giriniz:\"))\n",
    "b = int(input(\"b kenarını giriniz:\"))\n",
    "hipotenus = (a**2+b**2)**0.5\n",
    "print(hipotenus)\n"
   ]
  },
  {
   "cell_type": "code",
   "execution_count": 96,
   "metadata": {},
   "outputs": [
    {
     "name": "stdout",
     "output_type": "stream",
     "text": [
      "Bir sayı giriniz:1\n",
      "Bir sayı daha giriniz:9\n",
      "Büyük sayı: 9 Küçük sayı: 1\n"
     ]
    }
   ],
   "source": [
    "x = int(input(\"Bir sayı giriniz:\"))\n",
    "y = int(input(\"Bir sayı daha giriniz:\"))\n",
    "if x>y:\n",
    "    print(\"Büyük sayı:\",x,\"Küçük sayı:\",y)\n",
    "elif y>x:\n",
    "    print(\"Büyük sayı:\",y,\"Küçük sayı:\",x)\n",
    "else:\n",
    "    print(\"İki sayı birbirine eşittir.\")"
   ]
  },
  {
   "cell_type": "markdown",
   "metadata": {},
   "source": [
    "## Ödev\n",
    "3 tane örnek problem çözülecek. Tek dosya olacak şekilde formatlanacak. "
   ]
  }
 ],
 "metadata": {
  "kernelspec": {
   "display_name": "Python 3",
   "language": "python",
   "name": "python3"
  },
  "language_info": {
   "codemirror_mode": {
    "name": "ipython",
    "version": 3
   },
   "file_extension": ".py",
   "mimetype": "text/x-python",
   "name": "python",
   "nbconvert_exporter": "python",
   "pygments_lexer": "ipython3",
   "version": "3.8.5"
  }
 },
 "nbformat": 4,
 "nbformat_minor": 4
}
